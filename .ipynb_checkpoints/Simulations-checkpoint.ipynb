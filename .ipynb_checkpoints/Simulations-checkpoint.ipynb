{
 "cells": [
  {
   "cell_type": "markdown",
   "metadata": {},
   "source": [
    "# Simulations of multi-agent auctions with various agent distributions"
   ]
  },
  {
   "cell_type": "code",
   "execution_count": 19,
   "metadata": {},
   "outputs": [],
   "source": [
    "import pandas as pd\n",
    "import numpy as np\n",
    "\n",
    "with open('./data/validation_lin.csv') as csv_file3:\n",
    "    df_val = pd.read_csv(csv_file3)\n",
    "df_val = df_val[[\"click\",\"bidprice\",\"payprice\",\"lin_bids\", \"non_lin_bids\"]]"
   ]
  },
  {
   "cell_type": "code",
   "execution_count": 20,
   "metadata": {},
   "outputs": [],
   "source": [
    "\n",
    "################\n",
    "#### Utility functions to generate random intervals and bids from these intervals for rand agents\n",
    "# Takes boolean  input : partition if we want intervals to be consecutive non overlapping rather than random.\n",
    "################\n",
    "def gen_rand_intervals(min,max,num_rands, partition):\n",
    "\n",
    "    # If partition, generate consecutive non overlapping intervals between min and max bids\n",
    "    if partition:\n",
    "        nums = list(range(min, max + 1, int((max-min) / num_rands)))\n",
    "        temp = [nums[i:i + 2] for i in range(len(nums) - 1)]\n",
    "        temp.insert(0, [0, 0])\n",
    "        intervals= np.array(temp)\n",
    "\n",
    "    else:\n",
    "        intervals = np.zeros((num_rands + 1, 2))\n",
    "\n",
    "        # Generate n intervals upper bounded by max\n",
    "        lower_bounds = np.random.randint(min ,max - 1 ,size = num_rands)\n",
    "\n",
    "        # broadcast lower-bounds to create upper bounds\n",
    "        upper_bounds = [np.random.randint(lower_bound + 1, max) for lower_bound in lower_bounds]\n",
    "\n",
    "        intervals[1:num_rands+1,:]= list(zip(lower_bounds,upper_bounds))\n",
    "\n",
    "\n",
    "    return intervals\n",
    "\n",
    "\n",
    "def gen_rand_bids(intervals,num_rands,dataset):\n",
    "\n",
    "    lower_bounds = intervals[:,0]\n",
    "    upper_bounds = intervals[:,1]\n",
    "\n",
    "    num_bids = dataset.shape[0]\n",
    "\n",
    "    bids = np.zeros((num_rands + 1, num_bids))\n",
    "\n",
    "    for i in range(1,num_rands+1):\n",
    "        bids[i, :] = np.random.randint(lower_bounds[i], upper_bounds[i], size=num_bids)\n",
    "\n",
    "     # Add winning bids from each auction\n",
    "    bids[0, :] = dataset['payprice']\n",
    "\n",
    "    return bids\n",
    "\n"
   ]
  },
  {
   "cell_type": "code",
   "execution_count": 21,
   "metadata": {},
   "outputs": [],
   "source": [
    "################\n",
    "#### Function to generate as many bids as there are auctions from intervals for ALL agents\n",
    "################\n",
    "def gen_all_bids(parameters,dataset = df_val):\n",
    "\n",
    "    min_bid, max_bid, N_rand, N_lin, N_non_lin, noise,partition,inflation = parameters\n",
    "\n",
    "    T = dataset.shape[0]\n",
    "    N = N_rand + N_lin + N_non_lin\n",
    "    # Include the +1 to reflect pay price in validation set (criterion 1)\n",
    "    bids = np.zeros((N+1, T))\n",
    "    lin_bids = dataset[\"lin_bids\"]*inflation\n",
    "    non_lin_bids = dataset[\"non_lin_bids\"]*inflation\n",
    "\n",
    "    # Generate Random intervals and from these random bids (include payprice in val-set)\n",
    "    intervals = gen_rand_intervals(min_bid, max_bid, N_rand, partition)\n",
    "    rand_bids = gen_rand_bids(intervals,N_rand,dataset)\n",
    "\n",
    "    # Get linear bids from column in csv 'lin_bids'  then add noise\n",
    "\n",
    "    # noisy_lin_bids = np.array([np.random.randint(lin_bids[k]- noise , lin_bids[k] + noise, T) for k in range(N_lin)])\n",
    "    noisy_lin_bids = np.round([lin_bids + np.random.randint(-noise,noise,T) for _ in range(N_lin)])\n",
    "\n",
    "    # Get non_linear bids from column in csv 'non_lin_bids'  then add noise\n",
    "    noisy_non_lin_bids = np.round([non_lin_bids + np.random.randint(-noise,noise,T) for _ in range(N_non_lin)])\n",
    "\n",
    "    # Concatenate all agents bids\n",
    "    np.concatenate((rand_bids,noisy_lin_bids,noisy_non_lin_bids), axis=0, out=bids)\n",
    "\n",
    "    return bids\n"
   ]
  },
  {
   "cell_type": "code",
   "execution_count": 22,
   "metadata": {},
   "outputs": [],
   "source": [
    "################\n",
    "#### Go through data ONCE, and evaluate the sampled bids from the intervals against auctions data (validation set)\n",
    "################\n",
    "def sample_eval(parameters, dataset = df_val):\n",
    "\n",
    "    # num_agents = N_rand + N_lin + N_non_lin\n",
    "    bids = gen_all_bids(parameters, dataset = df_val)\n",
    "    num_agents = bids.shape[0] - 1 # ignore first row, current highest bidder in df_val\n",
    "    max_agt_bids = np.amax(bids, axis=1)\n",
    "    T = dataset.shape[0]\n",
    "\n",
    "    # + 1 because we include an extra agent always bidding payprice (or slot price for test set)\n",
    "    agent_wins = np.zeros(num_agents + 1)\n",
    "    agent_budgets = np.ones(num_agents + 1) * budget\n",
    "    agent_clicks = np.zeros(num_agents + 1)\n",
    "\n",
    "    # Go through auctions one at a time and evaluate winner, update budget and ctr.\n",
    "    # Can't do all at once as there is budget constraint to be checked each round.\n",
    "    for t in range(T):\n",
    "        agent_bids = bids[:,t]\n",
    "\n",
    "        # Make sure agent have enough budget left to bid, if not their bid is 0. Compare budget to lowest bid agent want to make\n",
    "        # if you choose min instead, risk of going negative\n",
    "        agent_bids[agent_budgets < (agent_bids/1000)] = 0\n",
    "\n",
    "\n",
    "        # Get highest bidder and payprice = max(second_highest bid, data payprice)\n",
    "        highest_bidder = np.argmax(agent_bids)\n",
    "        pay_price = np.sort(agent_bids)[-2]\n",
    "\n",
    "        agent_wins[highest_bidder] += 1\n",
    "        agent_clicks[highest_bidder] += df_val['click'].iloc[t]\n",
    "\n",
    "        # if t%300 == 0 and t>0:\n",
    "        #     print('#######NEXT ROUND########### ')\n",
    "        #     print(agent_bids)\n",
    "        #     print(agent_budgets)\n",
    "        #     print(highest_bidder)\n",
    "        #     print(pay_price)\n",
    "\n",
    "        if highest_bidder != 0:\n",
    "            agent_budgets[highest_bidder] -= pay_price/1000\n",
    "\n",
    "\n",
    "    return agent_clicks,agent_wins, agent_budgets\n",
    "\n",
    "\n",
    "################\n",
    "#### Go through data ITER times, store performance and return average performances across iterations, return best agent.\n",
    "################\n",
    "def get_best_agent(parameters, dataset, iter = 10):\n",
    "\n",
    "    N_rand, N_lin, N_non_lin = parameters[2:5]\n",
    "    num_agents = N_rand + N_lin + N_non_lin\n",
    "    total_clicks = np.zeros(num_agents + 1)\n",
    "    total_wins = np.zeros(num_agents + 1)\n",
    "    total_budgets = np.zeros(num_agents + 1)\n",
    "\n",
    "    for _ in range(iter):\n",
    "        agent_clicks, agent_wins, agent_budgets = sample_eval(parameters, dataset)\n",
    "        total_clicks += agent_clicks\n",
    "        total_wins += agent_wins\n",
    "        total_budgets += agent_budgets\n",
    "\n",
    "    avg_clicks = np.array(total_clicks)/iter\n",
    "    avg_wins = np.array(total_wins)/iter\n",
    "    avg_rem_budget = np.array(total_budgets)/iter\n",
    "\n",
    "    ######### Print Results for each agent ###############\n",
    "    # for i in range(num_agents +1 ):\n",
    "    #     print(\" Agent: {} \\t  Managed to get: {} clicks. Won {} auctions. Left with budget: {}\"\n",
    "    #           .format(i, int(avg_clicks[i]),int(avg_wins[i]),int(avg_rem_budget[i])))\n",
    "\n",
    "    avg_rand = sum(avg_clicks[1:N_rand+1])\n",
    "    avg_lin = sum(avg_clicks[N_rand+1:N_rand + N_lin + 1])\n",
    "    avg_nonlin = sum(avg_clicks[N_rand+N_lin:num_agents + 1])\n",
    "\n",
    "    clicks_per_agt_type = [parameters[:2],avg_rand/N_rand,avg_lin/N_lin,avg_nonlin/N_non_lin]\n",
    "\n",
    "    # print(\"\\n Random Interval: {} \\n Expected clicks per Random agent: {} \\n Expected clicks per Linear agent: {} \\n\"\n",
    "    #       \" Expected clicks per Non-linear agent:{}\".format(*clicks_per_agt_type))\n",
    "    ##########################################\n",
    "\n",
    "\n",
    "    winning_agent = np.argmax(avg_clicks[1:]) + 1       # ignore first element: stores \"pay price\" from current dataset\n",
    "    win_num_clicks = avg_clicks[winning_agent]\n",
    "    # winning_interval = intervals[winning_agent,:]\n",
    "    winning_count = avg_wins[winning_agent]\n",
    "    winner_rem_budget = avg_rem_budget[winning_agent]\n",
    "\n",
    "    best_agent_stats = [winning_agent,win_num_clicks, winning_count, round(winner_rem_budget,2)]\n",
    "\n",
    "    return clicks_per_agt_type, best_agent_stats\n",
    "\n",
    "############ END OF CODE ###############################################################################################\n"
   ]
  },
  {
   "cell_type": "code",
   "execution_count": 23,
   "metadata": {},
   "outputs": [],
   "source": [
    "######## PARAMETERS YOU CAN CHANGE ####\n",
    "# min_rand_bid = 25000   # lower bound of intervals random bidders use to generate bids\n",
    "# max_rand_bid = 26000  # upper bound of intervals random bidders use to generate bids\n",
    "\n",
    "np.random.seed(0)\n",
    "N_rand = 2    # Number of Random interval bidders in simulation\n",
    "N_lin = 25    # Number of Linear bidder in simulation\n",
    "N_non_lin = 2  # Number of non linear bidder in simulations\n",
    "\n",
    "budget = 6250*(1)   # Applies to each agent in simulation. Keep total budget for all agents constant to have good comparisons\n",
    "\n",
    "noise = 5           # integer to introduce noise to linear and non linear bids Number of times\n",
    "\n",
    "iterations = 1   # Number of times script generates new bids (for each agents) and evaluates..\n",
    "\n",
    "inflation = 1 # amount by which we want to inflate linear and non-linear bids in order to account for criterion 2 dynamics\n",
    "\n",
    "# Parameter to decide on shape of random intervals for random bidding agents. of true-> consecutive non overlapping\n",
    "# intervals are used (linspace like)\n",
    "partition = False\n",
    "\n",
    "# List of parameters:\n",
    "# params = [min_rand_bid, max_rand_bid, N_rand, N_lin, N_non_lin, noise,partition,inflation]\n",
    "########################################################################################################\n"
   ]
  },
  {
   "cell_type": "markdown",
   "metadata": {},
   "source": [
    "## Run simulations by changing number of each agent type "
   ]
  },
  {
   "cell_type": "code",
   "execution_count": 25,
   "metadata": {},
   "outputs": [
    {
     "name": "stdout",
     "output_type": "stream",
     "text": [
      "Average clicks per agent across random bids intervals for [25, 2, 2] split for Rand/Lin/Non-lin respectively: \n",
      " [ 3.624 27.9   28.65 ] \n",
      "Average clicks per agent across random bids intervals for [2, 25, 2] split for Rand/Lin/Non-lin respectively: \n",
      " [10.5    5.928  1.05 ] \n",
      "Average clicks per agent across random bids intervals for [2, 2, 25] split for Rand/Lin/Non-lin respectively: \n",
      " [10.8  25.15  3.9 ] \n"
     ]
    }
   ],
   "source": [
    "######### EXECUTE BELOW CODE TO GET PERFORMANCE OF AGENTS AND BEST AGENT GIVEN PARAMETERS ##############\n",
    "\n",
    "# Results of simulation on validation set ( IMPORTANT! : AGENT 0 is a dummy to represent payprice of validation dataset\n",
    "# or slot price of test set)\n",
    "\n",
    "# print(\"\\n Best Agent: {}. Managed to get {} clicks. Won {} auctions. Budget left with: {}\".format(*get_best_agent(params, df_val, 1)[1]))\n",
    "\n",
    "\n",
    "\n",
    "def simulate(splits):\n",
    "    \n",
    "    for distrib in splits:\n",
    "\n",
    "        N_rand, N_lin, N_non_lin = distrib\n",
    "\n",
    "        avg_clicks_per_rand_lvl =[]\n",
    "\n",
    "        for i in range(10):\n",
    "            min_rand_bid = 250*i\n",
    "            max_rand_bid = 250*(i+1)\n",
    "\n",
    "            params  = [min_rand_bid, max_rand_bid, N_rand, N_lin, N_non_lin, noise,partition,inflation]\n",
    "\n",
    "            avg_clicks_per_rand_lvl.append(get_best_agent(params, df_val, 1)[0][1:])\n",
    "\n",
    "    #     print(np.round(avg_clicks_per_rand_lvl))\n",
    "\n",
    "        avg_clicks_across_rand_lvls = np.mean(np.array(avg_clicks_per_rand_lvl), axis =0)\n",
    "\n",
    "        print(\"Average clicks per agent across random bids intervals for {} split for Rand/Lin/Non-lin respectively: \\n {} \".format(distrib,avg_clicks_across_rand_lvls))\n",
    "\n",
    "simulate([[25,2,2],[2,25,2],[2,2,25]])"
   ]
  },
  {
   "cell_type": "code",
   "execution_count": 26,
   "metadata": {},
   "outputs": [
    {
     "name": "stdout",
     "output_type": "stream",
     "text": [
      "Average clicks per agent across random bids intervals for [15, 7, 7] split for Rand/Lin/Non-lin respectively: \n",
      " [ 4.26       16.6         1.81428571] \n",
      "Average clicks per agent across random bids intervals for [7, 15, 7] split for Rand/Lin/Non-lin respectively: \n",
      " [6.08571429 8.77333333 0.52857143] \n",
      "Average clicks per agent across random bids intervals for [7, 7, 15] split for Rand/Lin/Non-lin respectively: \n",
      " [ 5.58571429 19.18571429  0.91333333] \n"
     ]
    }
   ],
   "source": [
    "simulate([[15,7,7],[7,15,7],[7,7,15]])"
   ]
  },
  {
   "cell_type": "code",
   "execution_count": 27,
   "metadata": {},
   "outputs": [
    {
     "name": "stdout",
     "output_type": "stream",
     "text": [
      "Average clicks per agent across random bids intervals for [10, 9, 9] split for Rand/Lin/Non-lin respectively: \n",
      " [ 4.87       14.14444444  1.06666667] \n",
      "Average clicks per agent across random bids intervals for [9, 10, 9] split for Rand/Lin/Non-lin respectively: \n",
      " [ 5.2  12.86  0.8 ] \n",
      "Average clicks per agent across random bids intervals for [9, 9, 10] split for Rand/Lin/Non-lin respectively: \n",
      " [ 5.17777778 14.34444444  0.76      ] \n"
     ]
    }
   ],
   "source": [
    "simulate([[10,9,9],[9,10,9],[9,9,10]])"
   ]
  },
  {
   "cell_type": "markdown",
   "metadata": {},
   "source": [
    "# How about if we inflate all linear and non linear bid prices by a factor of 5? (Tim's point...)"
   ]
  },
  {
   "cell_type": "code",
   "execution_count": 28,
   "metadata": {},
   "outputs": [
    {
     "name": "stdout",
     "output_type": "stream",
     "text": [
      "Average clicks per agent across random bids intervals for [25, 2, 2] split for Rand/Lin/Non-lin respectively: \n",
      " [ 3.088  7.85  22.1  ] \n",
      "Average clicks per agent across random bids intervals for [2, 25, 2] split for Rand/Lin/Non-lin respectively: \n",
      " [ 3.8   4.9  19.65] \n",
      "Average clicks per agent across random bids intervals for [2, 2, 25] split for Rand/Lin/Non-lin respectively: \n",
      " [2.7   5.55  7.384] \n"
     ]
    }
   ],
   "source": [
    "inflation = 5\n",
    "simulate([[25,2,2],[2,25,2],[2,2,25]])"
   ]
  },
  {
   "cell_type": "code",
   "execution_count": 29,
   "metadata": {},
   "outputs": [
    {
     "name": "stdout",
     "output_type": "stream",
     "text": [
      "Average clicks per agent across random bids intervals for [15, 7, 7] split for Rand/Lin/Non-lin respectively: \n",
      " [ 2.73333333  5.44285714 13.77142857] \n",
      "Average clicks per agent across random bids intervals for [7, 15, 7] split for Rand/Lin/Non-lin respectively: \n",
      " [ 2.54285714  4.94       13.51428571] \n",
      "Average clicks per agent across random bids intervals for [7, 7, 15] split for Rand/Lin/Non-lin respectively: \n",
      " [2.11428571 5.7        9.83333333] \n",
      "Average clicks per agent across random bids intervals for [10, 9, 9] split for Rand/Lin/Non-lin respectively: \n",
      " [ 2.55        5.27777778 12.91111111] \n",
      "Average clicks per agent across random bids intervals for [9, 10, 9] split for Rand/Lin/Non-lin respectively: \n",
      " [ 2.43333333  5.15       13.        ] \n",
      "Average clicks per agent across random bids intervals for [9, 9, 10] split for Rand/Lin/Non-lin respectively: \n",
      " [ 2.45555556  5.33333333 12.75      ] \n"
     ]
    }
   ],
   "source": [
    "inflation = 5\n",
    "simulate([[15,7,7],[7,15,7],[7,7,15]])\n",
    "simulate([[10,9,9],[9,10,9],[9,9,10]])"
   ]
  },
  {
   "cell_type": "markdown",
   "metadata": {},
   "source": [
    "### Temporal clustering of clicks:"
   ]
  },
  {
   "cell_type": "code",
   "execution_count": 33,
   "metadata": {},
   "outputs": [
    {
     "data": {
      "text/plain": [
       "[<matplotlib.lines.Line2D at 0x122e79780>]"
      ]
     },
     "execution_count": 33,
     "metadata": {},
     "output_type": "execute_result"
    },
    {
     "data": {
      "image/png": "[encoded data removed]",
      "text/plain": [
       "<Figure size 432x288 with 1 Axes>"
      ]
     },
     "metadata": {
      "needs_background": "light"
     },
     "output_type": "display_data"
    }
   ],
   "source": [
    "import matplotlib.pyplot as plt\n",
    "plt.plot(range(df_val.shape[0]),df_val['click'])"
   ]
  },
  {
   "cell_type": "code",
   "execution_count": null,
   "metadata": {},
   "outputs": [],
   "source": []
  }
 ],
 "metadata": {
  "kernelspec": {
   "display_name": "Python 3",
   "language": "python",
   "name": "python3"
  },
  "language_info": {
   "codemirror_mode": {
    "name": "ipython",
    "version": 3
   },
   "file_extension": ".py",
   "mimetype": "text/x-python",
   "name": "python",
   "nbconvert_exporter": "python",
   "pygments_lexer": "ipython3",
   "version": "3.7.2"
  }
 },
 "nbformat": 4,
 "nbformat_minor": 2
}
